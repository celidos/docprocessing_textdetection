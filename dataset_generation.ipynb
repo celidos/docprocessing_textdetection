{
 "cells": [
  {
   "cell_type": "markdown",
   "metadata": {},
   "source": [
    "# Создание датасета"
   ]
  },
  {
   "cell_type": "code",
   "execution_count": 20,
   "metadata": {},
   "outputs": [],
   "source": [
    "from bs4 import BeautifulSoup\n",
    "import os\n",
    "from matplotlib.image import imread\n",
    "from matplotlib import pyplot as plt\n",
    "import numpy as np"
   ]
  },
  {
   "cell_type": "code",
   "execution_count": 23,
   "metadata": {},
   "outputs": [],
   "source": [
    "def hist_features(bits, dh, dv):\n",
    "    bits = bits.ravel()\n",
    "    difs = np.diff(np.pad(bits.astype(int), pad_width=1, mode='constant', constant_values=0))\n",
    "    run_starts, = np.where(difs > 0)\n",
    "    run_ends, = np.where(difs < 0)\n",
    "    \n",
    "    bins = np.linspace(0, 1, 11)\n",
    "    lens = (run_ends - run_starts) / dv \n",
    "    binned, _ = np.histogram(lens, bins)\n",
    "    return binned / dv"
   ]
  },
  {
   "cell_type": "code",
   "execution_count": 24,
   "metadata": {},
   "outputs": [],
   "source": [
    "def get_additional_features(img, x, y, w, h, features):\n",
    "    box = img[y:y+h, x:x+w]\n",
    "    addf = {}\n",
    "    \n",
    "    area = w * h\n",
    "    \n",
    "    addf['feat1h'] = (area - features['n_black']) / ((features['n_h_strokes'] + h ) * h )\n",
    "    addf['feat1v'] = (area - features['n_black']) / ((features['n_v_strokes'] + w ) * w )\n",
    "    addf['feat2'] = (features['n_h_strokes'] + features['n_v_strokes']) / max(w, h)\n",
    "    addf['feat3'] = features['n_black'] / (features['n_v_strokes'] + features['n_h_strokes'])\n",
    "    \n",
    "    histf_h = hist_features(box < 30, h, w)\n",
    "    \n",
    "    histf_v = hist_features((box < 30).T, w, h)\n",
    "    \n",
    "    for i in range(10):\n",
    "        addf['histv' + str(i)] = histf_v[i]\n",
    "        addf['histh' + str(i)] = histf_h[i]\n",
    "    \n",
    "    return addf"
   ]
  },
  {
   "cell_type": "code",
   "execution_count": 28,
   "metadata": {},
   "outputs": [],
   "source": [
    "def process_file(img_filename, xml_filename, text=True):\n",
    "    \n",
    "    # Image reading -------------------------\n",
    "    \n",
    "    img = imread(img_filename)\n",
    "    if len(img.shape) > 2:\n",
    "        img = img[:, :, 0]\n",
    "    \n",
    "#     plt.figure(figsize=(15, 12))\n",
    "#     plt.imshow(img, cmap='gray')\n",
    "    print('Image shape:', img.shape)\n",
    "    \n",
    "    # xml reading ---------------------------\n",
    "    \n",
    "    with open(xml_filename, 'r') as xfile:\n",
    "        xml = xfile.read()\n",
    "    soup = BeautifulSoup(xml, 'xml')\n",
    "    bb_list = soup.find(\"Image\")\n",
    "    bb_list = bb_list.find_all('WordFragment')\n",
    "    \n",
    "    ans = []\n",
    "    \n",
    "    for box in bb_list:\n",
    "        features = {}\n",
    "        features['target'] = text\n",
    "        features['max_h_stroke_len'] = int(box.get('MaxHorzStrokeLength'))\n",
    "        features['n_v_strokes'] = int(box.get('VertStrokesCount'))\n",
    "        features['n_h_strokes'] = int(box.get('HorzStrokesCount'))\n",
    "        features['n_black'] = int(box.get('BlackCount'))\n",
    "        features['n_holes'] = int(box.get('WhiteHolesCount'))\n",
    "        \n",
    "        rect = box.find('Rect')\n",
    "        x, y = int(rect.get('Left')), int(rect.get('Top'))\n",
    "        w, h = int(rect.get('Right')), int(rect.get('Bottom'))\n",
    "        w, h = w - x + 1, h - y + 1\n",
    "        \n",
    "        add_features = get_additional_features(img, x, y, w, h, features)\n",
    "        \n",
    "        features.update(add_features)\n",
    "        ans.append(features)\n",
    "\n",
    "    return ans"
   ]
  },
  {
   "cell_type": "code",
   "execution_count": 30,
   "metadata": {},
   "outputs": [],
   "source": [
    "from tqdm import tqdm_notebook as tqdm"
   ]
  },
  {
   "cell_type": "code",
   "execution_count": 31,
   "metadata": {},
   "outputs": [
    {
     "data": {
      "application/vnd.jupyter.widget-view+json": {
       "model_id": "9a6fe99503a84dfb819f15184025959e",
       "version_major": 2,
       "version_minor": 0
      },
      "text/plain": [
       "HBox(children=(IntProgress(value=0, max=34), HTML(value='')))"
      ]
     },
     "metadata": {},
     "output_type": "display_data"
    },
    {
     "name": "stdout",
     "output_type": "stream",
     "text": [
      "Image shape: (1819, 1178)\n",
      "Image shape: (2844, 1264)\n",
      "Image shape: (3443, 3048)\n",
      "Image shape: (2202, 2889)\n",
      "Image shape: (2900, 2181)\n",
      "Image shape: (1656, 1432)\n",
      "Image shape: (2134, 681)\n",
      "Image shape: (1344, 1008)\n",
      "Image shape: (825, 592)\n",
      "Image shape: (920, 2208)\n",
      "Image shape: (629, 512)\n",
      "Image shape: (935, 1824)\n",
      "Image shape: (3515, 2491)\n",
      "Image shape: (1300, 1261)\n",
      "Image shape: (564, 564)\n",
      "Image shape: (601, 2416)\n",
      "Image shape: (196, 480)\n",
      "Image shape: (69, 480)\n",
      "Image shape: (185, 480)\n",
      "Image shape: (1682, 1300)\n",
      "Image shape: (215, 215)\n",
      "Image shape: (170, 170)\n",
      "Image shape: (1964, 2400)\n",
      "Image shape: (898, 1200)\n",
      "Image shape: (346, 357)\n",
      "Image shape: (1024, 1024)\n",
      "Image shape: (977, 2359)\n",
      "Image shape: (2985, 3307)\n",
      "Image shape: (1300, 1214)\n",
      "Image shape: (1600, 1500)\n",
      "Image shape: (1250, 2500)\n",
      "Image shape: (1200, 1200)\n",
      "Image shape: (944, 1487)\n",
      "Image shape: (1048, 762)\n",
      "\n"
     ]
    }
   ],
   "source": [
    "files = []\n",
    "xmlfiles = []\n",
    "mask = []\n",
    "\n",
    "for r, d, f in os.walk('./Text'):\n",
    "    for file in f:\n",
    "        if '.xml' not in file:\n",
    "            files.append(os.path.join(r, file))\n",
    "            xmlfiles.append((os.path.join(r, file))[:-3] + 'xml')\n",
    "            mask.append(True)\n",
    "for r, d, f in os.walk('./Nontext'):\n",
    "    for file in f:\n",
    "        if '.xml' not in file:\n",
    "            files.append(os.path.join(r, file))\n",
    "            xmlfiles.append((os.path.join(r, file))[:-3] + 'xml')\n",
    "            mask.append(False)\n",
    "\n",
    "data = []\n",
    "for i in tqdm(range(len(files))):\n",
    "    data += process_file(files[i], xmlfiles[i], mask[i])\n",
    "    # break"
   ]
  },
  {
   "cell_type": "code",
   "execution_count": 32,
   "metadata": {},
   "outputs": [
    {
     "data": {
      "text/plain": [
       "43009"
      ]
     },
     "execution_count": 32,
     "metadata": {},
     "output_type": "execute_result"
    }
   ],
   "source": [
    "len(data)"
   ]
  },
  {
   "cell_type": "code",
   "execution_count": 33,
   "metadata": {},
   "outputs": [],
   "source": [
    "import pandas as pd"
   ]
  },
  {
   "cell_type": "code",
   "execution_count": 34,
   "metadata": {},
   "outputs": [],
   "source": [
    "data = pd.DataFrame(data)\n",
    "data.to_csv('data.csv', sep='\\t', index=False)"
   ]
  },
  {
   "cell_type": "code",
   "execution_count": null,
   "metadata": {},
   "outputs": [],
   "source": []
  }
 ],
 "metadata": {
  "kernelspec": {
   "display_name": "conda",
   "language": "python",
   "name": "conda"
  },
  "language_info": {
   "codemirror_mode": {
    "name": "ipython",
    "version": 3
   },
   "file_extension": ".py",
   "mimetype": "text/x-python",
   "name": "python",
   "nbconvert_exporter": "python",
   "pygments_lexer": "ipython3",
   "version": "3.6.5"
  }
 },
 "nbformat": 4,
 "nbformat_minor": 2
}
